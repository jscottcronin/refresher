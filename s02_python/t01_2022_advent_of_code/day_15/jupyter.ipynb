{
 "cells": [
  {
   "cell_type": "code",
   "execution_count": 1,
   "id": "0ffddef9-3888-4d54-a462-d4f2d4dc1c22",
   "metadata": {
    "tags": []
   },
   "outputs": [],
   "source": [
    "%load_ext autoreload\n",
    "%autoreload 2"
   ]
  },
  {
   "cell_type": "code",
   "execution_count": 2,
   "id": "2403f08f-62cd-47ea-a33a-3dc7ab05b2d2",
   "metadata": {
    "tags": []
   },
   "outputs": [],
   "source": [
    "import os\n",
    "os.chdir(os.path.dirname(os.getcwd()))"
   ]
  },
  {
   "cell_type": "code",
   "execution_count": 15,
   "id": "0d6ab270-2035-45dc-8438-967c05bddab7",
   "metadata": {},
   "outputs": [],
   "source": [
    "from day_15.soln2 import *"
   ]
  },
  {
   "cell_type": "code",
   "execution_count": 16,
   "id": "2645deb1-7362-4c55-beb4-918f2b23cbeb",
   "metadata": {
    "tags": []
   },
   "outputs": [
    {
     "name": "stderr",
     "output_type": "stream",
     "text": [
      "14it [00:00, 12660.68it/s]\n"
     ]
    }
   ],
   "source": [
    "with open(\"day_15/small.txt\") as f:\n",
    "    sensors = []\n",
    "    pattern = r\"x=(-?\\d+),\\s*y=(-?\\d+)\"\n",
    "    for line in tqdm(f):\n",
    "        matches = [tuple(map(int, m)) for m in re.findall(pattern, line)]\n",
    "        sensors.append(Sensor(*matches))"
   ]
  },
  {
   "cell_type": "code",
   "execution_count": 17,
   "id": "8b08e80e-7477-4367-8807-db828841fa28",
   "metadata": {
    "tags": []
   },
   "outputs": [
    {
     "data": {
      "text/plain": [
       "Sensor(sensor=(2, 18), beacon=(-2, 15), perim={(-5, 17), (-2, 14), (9, 19), (-4, 20), (1, 11), (-1, 23), (2, 10), (8, 20), (4, 12), (5, 13), (3, 25), (4, 24), (7, 15), (7, 21), (9, 17), (-3, 21), (-3, 15), (10, 18), (6, 22), (3, 11), (2, 26), (-4, 16), (6, 14), (-5, 19), (8, 16), (5, 23), (0, 12), (-1, 13), (-2, 22), (0, 24), (1, 25), (-6, 18)}, dist=7)"
      ]
     },
     "execution_count": 17,
     "metadata": {},
     "output_type": "execute_result"
    }
   ],
   "source": [
    "sensors[0]"
   ]
  },
  {
   "cell_type": "code",
   "execution_count": 18,
   "id": "3915d1a2-448b-4d94-b15f-9cbb5fee9d35",
   "metadata": {
    "tags": []
   },
   "outputs": [],
   "source": [
    "points = set()\n",
    "results = set()\n",
    "for sensor in sensors:\n",
    "    for p in sensor.perim:\n",
    "        points.add(p)\n",
    "        \n",
    "for point in points:\n",
    "    for s in sensors:\n",
    "        if is_within_sensor(p, s):\n",
    "            results.add(p)"
   ]
  },
  {
   "cell_type": "code",
   "execution_count": 19,
   "id": "55eb8752-c44b-41ed-bf1c-3fe718992173",
   "metadata": {
    "tags": []
   },
   "outputs": [
    {
     "data": {
      "text/plain": [
       "{(16, 5)}"
      ]
     },
     "execution_count": 19,
     "metadata": {},
     "output_type": "execute_result"
    }
   ],
   "source": [
    "results"
   ]
  },
  {
   "cell_type": "code",
   "execution_count": 10,
   "id": "e8e90642-bed6-43ab-8afa-15439cece67a",
   "metadata": {
    "tags": []
   },
   "outputs": [
    {
     "data": {
      "text/plain": [
       "Sensor(sensor=(9, 16), beacon=(10, 16), perim={(10, 15), (11, 16), (8, 17), (7, 16), (10, 17), (9, 18), (9, 14), (8, 15)}, dist=1)"
      ]
     },
     "execution_count": 10,
     "metadata": {},
     "output_type": "execute_result"
    }
   ],
   "source": [
    "sensors[1]"
   ]
  }
 ],
 "metadata": {
  "kernelspec": {
   "display_name": "Python 3 (ipykernel)",
   "language": "python",
   "name": "python3"
  },
  "language_info": {
   "codemirror_mode": {
    "name": "ipython",
    "version": 3
   },
   "file_extension": ".py",
   "mimetype": "text/x-python",
   "name": "python",
   "nbconvert_exporter": "python",
   "pygments_lexer": "ipython3",
   "version": "3.11.2"
  }
 },
 "nbformat": 4,
 "nbformat_minor": 5
}
