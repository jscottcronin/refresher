{
 "cells": [
  {
   "cell_type": "code",
   "execution_count": 14,
   "metadata": {},
   "outputs": [],
   "source": [
    "import numpy as np\n",
    "import pandas as pd"
   ]
  },
  {
   "cell_type": "code",
   "execution_count": 37,
   "metadata": {},
   "outputs": [],
   "source": [
    "df = pd.read_csv('data.txt', header=None)"
   ]
  },
  {
   "cell_type": "code",
   "execution_count": 38,
   "metadata": {},
   "outputs": [
    {
     "data": {
      "text/plain": [
       "array([[1, 2, 2, ..., 1, 2, 1],\n",
       "       [2, 1, 2, ..., 0, 0, 2],\n",
       "       [2, 0, 0, ..., 0, 0, 2],\n",
       "       ...,\n",
       "       [0, 1, 0, ..., 0, 1, 2],\n",
       "       [1, 0, 2, ..., 2, 0, 2],\n",
       "       [1, 0, 2, ..., 0, 0, 0]])"
      ]
     },
     "execution_count": 38,
     "metadata": {},
     "output_type": "execute_result"
    }
   ],
   "source": [
    "data = np.array(df[0].map(lambda x: [int(c) for c in str(x)]).to_list())\n",
    "data"
   ]
  },
  {
   "cell_type": "code",
   "execution_count": 39,
   "metadata": {},
   "outputs": [
    {
     "name": "stdout",
     "output_type": "stream",
     "text": [
      "1763\n"
     ]
    }
   ],
   "source": [
    "c = (data.shape[0] * data.shape[1]) - ((data.shape[0] - 2) * (data.shape[1] - 2))\n",
    "for i in range(1, data.shape[0]-1):\n",
    "    for j in range(1, data.shape[1]-1):\n",
    "        left = max(data[i, :j]) < data[i, j]\n",
    "        right = max(data[i, j+1:]) < data[i, j]\n",
    "        up = max(data[:i, j]) < data[i, j]\n",
    "        down = max(data[i+1:, j]) < data[i, j]\n",
    "        if left or right or up or down:\n",
    "            c += 1\n",
    "print(c)\n",
    "\n"
   ]
  },
  {
   "cell_type": "code",
   "execution_count": null,
   "metadata": {},
   "outputs": [],
   "source": []
  }
 ],
 "metadata": {
  "kernelspec": {
   "display_name": "Python 3",
   "language": "python",
   "name": "python3"
  },
  "language_info": {
   "codemirror_mode": {
    "name": "ipython",
    "version": 3
   },
   "file_extension": ".py",
   "mimetype": "text/x-python",
   "name": "python",
   "nbconvert_exporter": "python",
   "pygments_lexer": "ipython3",
   "version": "3.11.2"
  },
  "orig_nbformat": 4
 },
 "nbformat": 4,
 "nbformat_minor": 2
}
