{
 "cells": [
  {
   "cell_type": "code",
   "execution_count": 1,
   "metadata": {},
   "outputs": [],
   "source": [
    "import pandas as pd"
   ]
  },
  {
   "cell_type": "markdown",
   "metadata": {},
   "source": [
    "# Part 1"
   ]
  },
  {
   "cell_type": "code",
   "execution_count": 58,
   "metadata": {},
   "outputs": [
    {
     "name": "stdout",
     "output_type": "stream",
     "text": [
      "SHQWSRBDL\n"
     ]
    }
   ],
   "source": [
    "moves = pd.read_csv('data.txt', delimiter=' ', header=None)\n",
    "\n",
    "start = {\n",
    "    1: 'HCR',\n",
    "    2: 'BJHLSF',\n",
    "    3: 'RMDHJTQ',\n",
    "    4: 'SGRHZBJ',\n",
    "    5: 'RPFZTDCB',\n",
    "    6: 'THCG',\n",
    "    7: 'SNVZBPWL',\n",
    "    8: 'RJQGC',\n",
    "    9: 'LDTRHPFS'\n",
    "}\n",
    "\n",
    "for i, row in moves.iterrows(): \n",
    "    s = start[row[3]][-row[1]:][::-1]\n",
    "    start[row[5]] += s\n",
    "    start[row[3]] = start[row[3]][0:-row[1]]\n",
    "\n",
    "print(\"\".join([x[-1:] for x in start.values()]))"
   ]
  },
  {
   "cell_type": "markdown",
   "metadata": {},
   "source": [
    "# Part 2"
   ]
  },
  {
   "cell_type": "code",
   "execution_count": 62,
   "metadata": {},
   "outputs": [
    {
     "name": "stdout",
     "output_type": "stream",
     "text": [
      "CDTQZHBRS\n"
     ]
    }
   ],
   "source": [
    "moves = pd.read_csv('data.txt', delimiter=' ', header=None)\n",
    "\n",
    "start = {\n",
    "    1: 'HCR',\n",
    "    2: 'BJHLSF',\n",
    "    3: 'RMDHJTQ',\n",
    "    4: 'SGRHZBJ',\n",
    "    5: 'RPFZTDCB',\n",
    "    6: 'THCG',\n",
    "    7: 'SNVZBPWL',\n",
    "    8: 'RJQGC',\n",
    "    9: 'LDTRHPFS'\n",
    "}\n",
    "# start = {\n",
    "#     1: 'ZN',\n",
    "#     2: 'MCD',\n",
    "#     3: 'P',\n",
    "# }\n",
    "\n",
    "for i, row in moves.iterrows(): \n",
    "    s = start[row[3]][-row[1]:]\n",
    "    start[row[5]] += s\n",
    "    start[row[3]] = start[row[3]][0:-row[1]]\n",
    "\n",
    "print(\"\".join([x[-1:] for x in start.values()]))"
   ]
  }
 ],
 "metadata": {
  "interpreter": {
   "hash": "3730775126ee0e98459e7b8ed43efdaf5a5e31feed2bf9ae8f361397e951038c"
  },
  "kernelspec": {
   "display_name": "Python 3.7.12 64-bit ('3.7.12': pyenv)",
   "name": "python3"
  },
  "language_info": {
   "codemirror_mode": {
    "name": "ipython",
    "version": 3
   },
   "file_extension": ".py",
   "mimetype": "text/x-python",
   "name": "python",
   "nbconvert_exporter": "python",
   "pygments_lexer": "ipython3",
   "version": "3.7.12"
  },
  "orig_nbformat": 4
 },
 "nbformat": 4,
 "nbformat_minor": 2
}
