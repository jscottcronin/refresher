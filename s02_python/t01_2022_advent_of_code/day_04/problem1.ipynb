{
 "cells": [
  {
   "cell_type": "code",
   "execution_count": 1,
   "metadata": {},
   "outputs": [],
   "source": [
    "import pandas as pd\n",
    "import numpy as np"
   ]
  },
  {
   "cell_type": "code",
   "execution_count": 3,
   "metadata": {},
   "outputs": [
    {
     "data": {
      "text/html": [
       "<div>\n",
       "<style scoped>\n",
       "    .dataframe tbody tr th:only-of-type {\n",
       "        vertical-align: middle;\n",
       "    }\n",
       "\n",
       "    .dataframe tbody tr th {\n",
       "        vertical-align: top;\n",
       "    }\n",
       "\n",
       "    .dataframe thead th {\n",
       "        text-align: right;\n",
       "    }\n",
       "</style>\n",
       "<table border=\"1\" class=\"dataframe\">\n",
       "  <thead>\n",
       "    <tr style=\"text-align: right;\">\n",
       "      <th></th>\n",
       "      <th>elf_1</th>\n",
       "      <th>elf_2</th>\n",
       "    </tr>\n",
       "  </thead>\n",
       "  <tbody>\n",
       "    <tr>\n",
       "      <th>0</th>\n",
       "      <td>13-53</td>\n",
       "      <td>17-82</td>\n",
       "    </tr>\n",
       "    <tr>\n",
       "      <th>1</th>\n",
       "      <td>32-32</td>\n",
       "      <td>32-42</td>\n",
       "    </tr>\n",
       "    <tr>\n",
       "      <th>2</th>\n",
       "      <td>85-85</td>\n",
       "      <td>8-86</td>\n",
       "    </tr>\n",
       "    <tr>\n",
       "      <th>3</th>\n",
       "      <td>78-80</td>\n",
       "      <td>79-91</td>\n",
       "    </tr>\n",
       "    <tr>\n",
       "      <th>4</th>\n",
       "      <td>60-71</td>\n",
       "      <td>59-70</td>\n",
       "    </tr>\n",
       "    <tr>\n",
       "      <th>...</th>\n",
       "      <td>...</td>\n",
       "      <td>...</td>\n",
       "    </tr>\n",
       "    <tr>\n",
       "      <th>995</th>\n",
       "      <td>38-88</td>\n",
       "      <td>37-96</td>\n",
       "    </tr>\n",
       "    <tr>\n",
       "      <th>996</th>\n",
       "      <td>74-81</td>\n",
       "      <td>22-81</td>\n",
       "    </tr>\n",
       "    <tr>\n",
       "      <th>997</th>\n",
       "      <td>69-83</td>\n",
       "      <td>68-70</td>\n",
       "    </tr>\n",
       "    <tr>\n",
       "      <th>998</th>\n",
       "      <td>2-91</td>\n",
       "      <td>38-91</td>\n",
       "    </tr>\n",
       "    <tr>\n",
       "      <th>999</th>\n",
       "      <td>2-90</td>\n",
       "      <td>91-96</td>\n",
       "    </tr>\n",
       "  </tbody>\n",
       "</table>\n",
       "<p>1000 rows × 2 columns</p>\n",
       "</div>"
      ],
      "text/plain": [
       "     elf_1  elf_2\n",
       "0    13-53  17-82\n",
       "1    32-32  32-42\n",
       "2    85-85   8-86\n",
       "3    78-80  79-91\n",
       "4    60-71  59-70\n",
       "..     ...    ...\n",
       "995  38-88  37-96\n",
       "996  74-81  22-81\n",
       "997  69-83  68-70\n",
       "998   2-91  38-91\n",
       "999   2-90  91-96\n",
       "\n",
       "[1000 rows x 2 columns]"
      ]
     },
     "execution_count": 3,
     "metadata": {},
     "output_type": "execute_result"
    }
   ],
   "source": [
    "def get_set(s):\n",
    "    return s.split('-')\n",
    "\n",
    "\n",
    "df = pd.read_csv('data.txt', header=None, names=['elf_1', 'elf_2'])\n",
    "df"
   ]
  },
  {
   "cell_type": "markdown",
   "metadata": {},
   "source": [
    "# Part 1"
   ]
  },
  {
   "cell_type": "code",
   "execution_count": 26,
   "metadata": {},
   "outputs": [
    {
     "data": {
      "text/plain": [
       "475"
      ]
     },
     "execution_count": 26,
     "metadata": {},
     "output_type": "execute_result"
    }
   ],
   "source": [
    "df['elf_1_set'] = df['elf_1'].str.split('-').map(lambda x: set(range(int(x[0]), int(x[1])+1)))\n",
    "df['elf_2_set'] = df['elf_2'].str.split('-').map(lambda x: set(range(int(x[0]), int(x[1])+1)))\n",
    "df['max'] = df.apply(lambda x: max(len(x['elf_1_set']), len(x['elf_2_set'])), axis=1)\n",
    "df['union'] = df.apply(lambda x: len(x['elf_1_set'] | x['elf_2_set']), axis=1)\n",
    "(df['union'] == df['max']).sum()"
   ]
  },
  {
   "cell_type": "markdown",
   "metadata": {},
   "source": [
    "# Part 2"
   ]
  },
  {
   "cell_type": "code",
   "execution_count": 31,
   "metadata": {},
   "outputs": [
    {
     "data": {
      "text/plain": [
       "825"
      ]
     },
     "execution_count": 31,
     "metadata": {},
     "output_type": "execute_result"
    }
   ],
   "source": [
    "df['total'] = df.apply(lambda x: len(x['elf_1_set']) + len(x['elf_2_set']), axis=1)\n",
    "(df['total'] != df['union']).sum()"
   ]
  }
 ],
 "metadata": {
  "interpreter": {
   "hash": "3730775126ee0e98459e7b8ed43efdaf5a5e31feed2bf9ae8f361397e951038c"
  },
  "kernelspec": {
   "display_name": "Python 3.7.12 64-bit ('3.7.12': pyenv)",
   "name": "python3"
  },
  "language_info": {
   "codemirror_mode": {
    "name": "ipython",
    "version": 3
   },
   "file_extension": ".py",
   "mimetype": "text/x-python",
   "name": "python",
   "nbconvert_exporter": "python",
   "pygments_lexer": "ipython3",
   "version": "3.7.12"
  },
  "orig_nbformat": 4
 },
 "nbformat": 4,
 "nbformat_minor": 2
}
