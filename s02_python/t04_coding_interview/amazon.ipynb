{
 "cells": [
  {
   "cell_type": "code",
   "execution_count": 1,
   "metadata": {},
   "outputs": [],
   "source": [
    "from collections import defaultdict"
   ]
  },
  {
   "cell_type": "code",
   "execution_count": 5,
   "metadata": {},
   "outputs": [
    {
     "name": "stdout",
     "output_type": "stream",
     "text": [
      "2\n",
      "defaultdict(<class 'int'>, {9: 1, 10: 2, 11: 2, 12: 1})\n"
     ]
    }
   ],
   "source": [
    "meetings = [(9, 10), (10, 12), (10, 11), (11, 13)]\n",
    "d = defaultdict(int)\n",
    "\n",
    "for meeting in meetings:\n",
    "    hours = list(range(meeting[0], meeting[1], 1))\n",
    "    for hour in hours:\n",
    "        d[hour] += 1\n",
    "\n",
    "max_rooms = 0\n",
    "for v in d.values():\n",
    "    if v > max_rooms:\n",
    "        max_rooms = v\n",
    "\n",
    "print(max_rooms)\n",
    "print(d)"
   ]
  }
 ],
 "metadata": {
  "kernelspec": {
   "display_name": "Python 3",
   "language": "python",
   "name": "python3"
  },
  "language_info": {
   "codemirror_mode": {
    "name": "ipython",
    "version": 3
   },
   "file_extension": ".py",
   "mimetype": "text/x-python",
   "name": "python",
   "nbconvert_exporter": "python",
   "pygments_lexer": "ipython3",
   "version": "3.11.2"
  },
  "orig_nbformat": 4
 },
 "nbformat": 4,
 "nbformat_minor": 2
}
