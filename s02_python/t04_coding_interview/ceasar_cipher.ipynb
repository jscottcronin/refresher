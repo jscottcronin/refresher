{
 "cells": [
  {
   "cell_type": "code",
   "execution_count": 2,
   "metadata": {},
   "outputs": [
    {
     "data": {
      "text/plain": [
       "'efgh bcd'"
      ]
     },
     "execution_count": 2,
     "metadata": {},
     "output_type": "execute_result"
    }
   ],
   "source": [
    "import string\n",
    "\n",
    "def ceasar_cipher(s, n):\n",
    "    letters = string.ascii_lowercase\n",
    "    output = ''\n",
    "    for c in s:\n",
    "        if c in letters:\n",
    "            output += letters[(letters.find(c) + n) % 26]\n",
    "        else:\n",
    "            output += c\n",
    "    return output\n",
    "\n",
    "\n",
    "ceasar_cipher('abcd xyz', 4)"
   ]
  }
 ],
 "metadata": {
  "kernelspec": {
   "display_name": "Python 3",
   "language": "python",
   "name": "python3"
  },
  "language_info": {
   "codemirror_mode": {
    "name": "ipython",
    "version": 3
   },
   "file_extension": ".py",
   "mimetype": "text/x-python",
   "name": "python",
   "nbconvert_exporter": "python",
   "pygments_lexer": "ipython3",
   "version": "3.11.2"
  },
  "orig_nbformat": 4
 },
 "nbformat": 4,
 "nbformat_minor": 2
}
