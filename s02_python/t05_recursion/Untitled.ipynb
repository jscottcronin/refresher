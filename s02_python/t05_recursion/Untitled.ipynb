{
 "cells": [
  {
   "cell_type": "code",
   "execution_count": 1,
   "id": "61170369-3666-4c48-9e96-236c9be6ef3c",
   "metadata": {
    "tags": []
   },
   "outputs": [],
   "source": [
    "import itertools"
   ]
  },
  {
   "cell_type": "code",
   "execution_count": 45,
   "id": "4c439c2b-5d92-4c98-8093-3ea3cc777c44",
   "metadata": {
    "tags": []
   },
   "outputs": [
    {
     "data": {
      "text/plain": [
       "['HHH', 'HHT', 'HTH', 'HTT', 'THH', 'THT', 'TTH', 'TTT']"
      ]
     },
     "execution_count": 45,
     "metadata": {},
     "output_type": "execute_result"
    }
   ],
   "source": [
    "k = 3\n",
    "elements = ['H', 'T']\n",
    "outcomes = sorted([''.join(x) for x in itertools.product(elements, repeat=3)])\n",
    "outcomes"
   ]
  },
  {
   "cell_type": "code",
   "execution_count": 30,
   "id": "85bfafe9-64eb-4446-94b2-e7dd5f717edf",
   "metadata": {},
   "outputs": [
    {
     "name": "stdout",
     "output_type": "stream",
     "text": [
      "  ''  \n",
      " /  \\ \n",
      "H    T\n"
     ]
    }
   ],
   "source": [
    "def build_coinflip_tree(k, s='', l=None):\n",
    "    m = ' '\n",
    "    if k == 1:\n",
    "        s = 'H' + ' '*4 + 'T'\n",
    "        s = m + '/' + m*2 + '\\\\' + m + '\\n' + s\n",
    "        s = m*2 + \"''\" + m*2 + '\\n' + s\n",
    "        n = len(s)\n",
    "        return s\n",
    "    \n",
    "print(build_coinflip_tree(1))"
   ]
  },
  {
   "cell_type": "code",
   "execution_count": 66,
   "id": "4062c4c5-5653-4217-8448-85dde920bcf9",
   "metadata": {
    "tags": []
   },
   "outputs": [
    {
     "name": "stdout",
     "output_type": "stream",
     "text": [
      "   /  \\          /  \\          /  \\          /  \\          \n",
      "HHH    HHT    HTH    HTT    THH    THT    TTH    TTT\n"
     ]
    }
   ],
   "source": [
    "s = ''\n",
    "k = 3\n",
    "elements = ['H', 'T']\n",
    "outcomes = sorted([''.join(x) for x in itertools.product(elements, repeat=3)])\n",
    "\n",
    "s = (' '*(k+1)).join(outcomes)\n",
    "s = ' '*k + ('/' + ' '*(k-1) + '\\\\' +  ' '*(3*k+1)) * (len(outcomes) // 2) + '\\n' + s\n",
    "print(s)"
   ]
  },
  {
   "cell_type": "code",
   "execution_count": null,
   "id": "ef123095-b2ce-4a23-a250-5c7e9ff9913f",
   "metadata": {},
   "outputs": [],
   "source": []
  },
  {
   "cell_type": "code",
   "execution_count": 193,
   "id": "96e16432-5c4c-45f1-ba51-f6c1204f7c5e",
   "metadata": {
    "tags": []
   },
   "outputs": [],
   "source": [
    "def graph(k, s='', n=None):\n",
    "    if not n:\n",
    "        n = k\n",
    "    if k == 0:\n",
    "        return s\n",
    "    elements = ['H', 'T']\n",
    "    outcomes = sorted([''.join(x) for x in itertools.product(elements, repeat=k)])\n",
    "    \n",
    "    margin = k + 2 if k < n else 0\n",
    "    delta = 3*k + 6 if k < n else k+1\n",
    "    \n",
    "    s = ' '*margin + (' '*(delta)).join(outcomes) + '\\n' + s\n",
    "    if k < n:\n",
    "        while True:\n",
    "            return None\n",
    "    s = ' '*k + ('/' + ' '*(k-1) + '\\\\' +  ' '*(3*k+1)) * (len(outcomes) // 2) + '\\n' + s\n",
    "    return graph(k-1, s, n)"
   ]
  },
  {
   "cell_type": "code",
   "execution_count": 194,
   "id": "936f578b-6898-474c-85a2-bc194453ae80",
   "metadata": {
    "tags": []
   },
   "outputs": [
    {
     "name": "stdout",
     "output_type": "stream",
     "text": [
      "None\n"
     ]
    }
   ],
   "source": [
    "print(graph(2))"
   ]
  },
  {
   "cell_type": "code",
   "execution_count": null,
   "id": "d85aff12-b07b-42a2-bb19-9d49958560dc",
   "metadata": {},
   "outputs": [],
   "source": [
    "4 + 5 + 4 + 5"
   ]
  },
  {
   "cell_type": "code",
   "execution_count": null,
   "id": "7cc5e290-2f34-4679-a5e0-80f4986a6acd",
   "metadata": {},
   "outputs": [],
   "source": [
    "(k+2)*2 + (k+1)*2"
   ]
  },
  {
   "cell_type": "code",
   "execution_count": null,
   "id": "21932320-6d3a-4a20-90c0-332cae0e3374",
   "metadata": {},
   "outputs": [],
   "source": [
    "(k+1)*2 + (k+1)*2"
   ]
  },
  {
   "cell_type": "code",
   "execution_count": null,
   "id": "cba0cb4d-fd08-4e4d-a135-62e929932394",
   "metadata": {},
   "outputs": [],
   "source": [
    "3*n + k + 2 + n - 1"
   ]
  },
  {
   "cell_type": "code",
   "execution_count": null,
   "id": "8cdd9745-89da-48be-8fb2-4d15da451bd4",
   "metadata": {},
   "outputs": [],
   "source": [
    "(k + 1)*2 + k + 2 + (k+1) + 1\n",
    "4k + 2 + 2 + 2"
   ]
  }
 ],
 "metadata": {
  "kernelspec": {
   "display_name": "Python 3 (ipykernel)",
   "language": "python",
   "name": "python3"
  },
  "language_info": {
   "codemirror_mode": {
    "name": "ipython",
    "version": 3
   },
   "file_extension": ".py",
   "mimetype": "text/x-python",
   "name": "python",
   "nbconvert_exporter": "python",
   "pygments_lexer": "ipython3",
   "version": "3.11.2"
  }
 },
 "nbformat": 4,
 "nbformat_minor": 5
}
